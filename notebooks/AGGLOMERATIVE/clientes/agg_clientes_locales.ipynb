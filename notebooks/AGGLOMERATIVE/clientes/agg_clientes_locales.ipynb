{
 "cells": [
  {
   "cell_type": "code",
   "execution_count": null,
   "id": "2bde66c7",
   "metadata": {},
   "outputs": [],
   "source": [
    "import sys\n",
    "import os\n",
    "\n",
    "import pandas as pd\n",
    "import numpy as np\n",
    "import matplotlib.pyplot as plt\n",
    "import seaborn as sns\n",
    "import pandas as pd\n",
    "from sklearn.preprocessing import RobustScaler,StandardScaler, MinMaxScaler\n",
    "from sklearn.cluster import KMeans, DBSCAN, AgglomerativeClustering, SpectralClustering\n",
    "from sklearn.mixture import GaussianMixture\n",
    "from sklearn.metrics import silhouette_score, calinski_harabasz_score, davies_bouldin_score\n",
    "import importlib\n",
    "from sklearn.decomposition import PCA\n",
    "\n",
    "path_src = os.path.abspath('../../../src')\n",
    "\n",
    "# Agregar esa ruta al sys.path si no está ya\n",
    "if path_src not in sys.path:\n",
    "    sys.path.append(path_src)\n",
    "\n",
    "# Importar utils normalmente\n",
    "import utils\n",
    "importlib.reload(utils)\n",
    "\n",
    "# Importar funciones específicas\n",
    "from utils import (\n",
    "    kmeans_clustering_mlflow,\n",
    "    transform_pca,\n",
    "    silhouette_analysis,\n",
    "    elbow_method,\n",
    "    plot_davies_bouldin_scores,\n",
    "    evaluar_calinski_harabasz\n",
    ")\n"
   ]
  }
 ],
 "metadata": {
  "language_info": {
   "name": "python"
  }
 },
 "nbformat": 4,
 "nbformat_minor": 5
}
