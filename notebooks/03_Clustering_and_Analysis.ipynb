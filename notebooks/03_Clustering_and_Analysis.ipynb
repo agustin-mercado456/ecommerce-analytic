{
 "cells": [
  {
   "cell_type": "code",
   "execution_count": 4,
   "metadata": {},
   "outputs": [],
   "source": [
    "import sys\n",
    "import os\n",
    "sys.path.append(os.path.abspath('..'))\n",
    "import pandas as pd\n",
    "import numpy as np\n",
    "import matplotlib.pyplot as plt\n",
    "import seaborn as sns\n",
    "import pandas as pd\n",
    "from sklearn.preprocessing import RobustScaler,StandardScaler, MinMaxScaler\n",
    "from sklearn.cluster import KMeans, DBSCAN, AgglomerativeClustering, SpectralClustering\n",
    "from sklearn.mixture import GaussianMixture\n",
    "from sklearn.metrics import silhouette_score, calinski_harabasz_score, davies_bouldin_score\n",
    "import importlib\n",
    "import src.utils\n",
    "importlib.reload(importlib.reload(src.utils))\n",
    "from src.utils import kmeans_clustering_mlflow"
   ]
  },
  {
   "cell_type": "markdown",
   "metadata": {},
   "source": [
    "# EXTRANJEROS"
   ]
  },
  {
   "cell_type": "markdown",
   "metadata": {},
   "source": [
    "## Productos"
   ]
  },
  {
   "cell_type": "code",
   "execution_count": 5,
   "metadata": {},
   "outputs": [
    {
     "name": "stdout",
     "output_type": "stream",
     "text": [
      "Index(['id_producto', 'Recency', 'Frequency', 'Monetary', 'n_paises_distintos',\n",
      "       'horario_promedio', '2010-12', '2011-01', '2011-02', '2011-03',\n",
      "       '2011-04', '2011-05', '2011-06', '2011-07', '2011-08', '2011-09',\n",
      "       '2011-10', '2011-11', '2011-12', 'Australia', 'Austria', 'Bahrain',\n",
      "       'Belgium', 'Brazil', 'Canada', 'Channel Islands', 'Cyprus',\n",
      "       'Czech Republic', 'Denmark', 'EIRE', 'European Community', 'Finland',\n",
      "       'France', 'Germany', 'Greece', 'Iceland', 'Israel', 'Italy', 'Japan',\n",
      "       'Lebanon', 'Lithuania', 'Malta', 'Netherlands', 'Norway', 'Poland',\n",
      "       'Portugal', 'RSA', 'Saudi Arabia', 'Singapore', 'Spain', 'Sweden',\n",
      "       'Switzerland', 'USA', 'United Arab Emirates', 'Unspecified'],\n",
      "      dtype='object')\n",
      "cantidad de columnas:  55\n",
      "cantidad de filas:  2781\n"
     ]
    }
   ],
   "source": [
    "rfm_productos_extranjeros = pd.read_csv('../dataset/rfm_productos_extranjeros.csv')\n",
    "\n",
    "\n",
    "\n",
    "print(rfm_productos_extranjeros.columns)\n",
    "\n",
    "print(\"cantidad de columnas: \", len(rfm_productos_extranjeros.columns))\n",
    "\n",
    "print(\"cantidad de filas: \", len(rfm_productos_extranjeros))\n",
    "\n"
   ]
  },
  {
   "cell_type": "code",
   "execution_count": 6,
   "metadata": {},
   "outputs": [],
   "source": [
    "rfm_productos_extranjeros.drop(columns=['id_producto','n_paises_distintos'], inplace=True)"
   ]
  },
  {
   "cell_type": "code",
   "execution_count": 7,
   "metadata": {},
   "outputs": [
    {
     "data": {
      "text/html": [
       "<div>\n",
       "<style scoped>\n",
       "    .dataframe tbody tr th:only-of-type {\n",
       "        vertical-align: middle;\n",
       "    }\n",
       "\n",
       "    .dataframe tbody tr th {\n",
       "        vertical-align: top;\n",
       "    }\n",
       "\n",
       "    .dataframe thead th {\n",
       "        text-align: right;\n",
       "    }\n",
       "</style>\n",
       "<table border=\"1\" class=\"dataframe\">\n",
       "  <thead>\n",
       "    <tr style=\"text-align: right;\">\n",
       "      <th></th>\n",
       "      <th>Recency</th>\n",
       "      <th>Frequency</th>\n",
       "      <th>Monetary</th>\n",
       "      <th>horario_promedio</th>\n",
       "      <th>2010-12</th>\n",
       "      <th>2011-01</th>\n",
       "      <th>2011-02</th>\n",
       "      <th>2011-03</th>\n",
       "      <th>2011-04</th>\n",
       "      <th>2011-05</th>\n",
       "      <th>...</th>\n",
       "      <th>Portugal</th>\n",
       "      <th>RSA</th>\n",
       "      <th>Saudi Arabia</th>\n",
       "      <th>Singapore</th>\n",
       "      <th>Spain</th>\n",
       "      <th>Sweden</th>\n",
       "      <th>Switzerland</th>\n",
       "      <th>USA</th>\n",
       "      <th>United Arab Emirates</th>\n",
       "      <th>Unspecified</th>\n",
       "    </tr>\n",
       "  </thead>\n",
       "  <tbody>\n",
       "    <tr>\n",
       "      <th>0</th>\n",
       "      <td>253</td>\n",
       "      <td>422</td>\n",
       "      <td>358.7</td>\n",
       "      <td>11</td>\n",
       "      <td>108.0</td>\n",
       "      <td>193.0</td>\n",
       "      <td>1.0</td>\n",
       "      <td>0.0</td>\n",
       "      <td>120.0</td>\n",
       "      <td>0.0</td>\n",
       "      <td>...</td>\n",
       "      <td>0.0</td>\n",
       "      <td>0.0</td>\n",
       "      <td>0.0</td>\n",
       "      <td>0.0</td>\n",
       "      <td>24.0</td>\n",
       "      <td>0.0</td>\n",
       "      <td>12.0</td>\n",
       "      <td>0.0</td>\n",
       "      <td>0.0</td>\n",
       "      <td>0.0</td>\n",
       "    </tr>\n",
       "    <tr>\n",
       "      <th>1</th>\n",
       "      <td>36</td>\n",
       "      <td>10</td>\n",
       "      <td>2.1</td>\n",
       "      <td>13</td>\n",
       "      <td>0.0</td>\n",
       "      <td>0.0</td>\n",
       "      <td>0.0</td>\n",
       "      <td>0.0</td>\n",
       "      <td>0.0</td>\n",
       "      <td>0.0</td>\n",
       "      <td>...</td>\n",
       "      <td>0.0</td>\n",
       "      <td>0.0</td>\n",
       "      <td>0.0</td>\n",
       "      <td>0.0</td>\n",
       "      <td>0.0</td>\n",
       "      <td>0.0</td>\n",
       "      <td>0.0</td>\n",
       "      <td>0.0</td>\n",
       "      <td>0.0</td>\n",
       "      <td>0.0</td>\n",
       "    </tr>\n",
       "    <tr>\n",
       "      <th>2</th>\n",
       "      <td>1</td>\n",
       "      <td>610</td>\n",
       "      <td>492.7</td>\n",
       "      <td>12</td>\n",
       "      <td>0.0</td>\n",
       "      <td>60.0</td>\n",
       "      <td>0.0</td>\n",
       "      <td>40.0</td>\n",
       "      <td>20.0</td>\n",
       "      <td>100.0</td>\n",
       "      <td>...</td>\n",
       "      <td>0.0</td>\n",
       "      <td>0.0</td>\n",
       "      <td>0.0</td>\n",
       "      <td>0.0</td>\n",
       "      <td>0.0</td>\n",
       "      <td>0.0</td>\n",
       "      <td>20.0</td>\n",
       "      <td>0.0</td>\n",
       "      <td>0.0</td>\n",
       "      <td>0.0</td>\n",
       "    </tr>\n",
       "    <tr>\n",
       "      <th>3</th>\n",
       "      <td>114</td>\n",
       "      <td>130</td>\n",
       "      <td>67.5</td>\n",
       "      <td>12</td>\n",
       "      <td>20.0</td>\n",
       "      <td>0.0</td>\n",
       "      <td>10.0</td>\n",
       "      <td>0.0</td>\n",
       "      <td>0.0</td>\n",
       "      <td>0.0</td>\n",
       "      <td>...</td>\n",
       "      <td>20.0</td>\n",
       "      <td>0.0</td>\n",
       "      <td>0.0</td>\n",
       "      <td>0.0</td>\n",
       "      <td>0.0</td>\n",
       "      <td>0.0</td>\n",
       "      <td>10.0</td>\n",
       "      <td>0.0</td>\n",
       "      <td>0.0</td>\n",
       "      <td>0.0</td>\n",
       "    </tr>\n",
       "    <tr>\n",
       "      <th>4</th>\n",
       "      <td>10</td>\n",
       "      <td>300</td>\n",
       "      <td>287.2</td>\n",
       "      <td>10</td>\n",
       "      <td>0.0</td>\n",
       "      <td>0.0</td>\n",
       "      <td>200.0</td>\n",
       "      <td>60.0</td>\n",
       "      <td>0.0</td>\n",
       "      <td>0.0</td>\n",
       "      <td>...</td>\n",
       "      <td>0.0</td>\n",
       "      <td>0.0</td>\n",
       "      <td>0.0</td>\n",
       "      <td>0.0</td>\n",
       "      <td>0.0</td>\n",
       "      <td>0.0</td>\n",
       "      <td>0.0</td>\n",
       "      <td>0.0</td>\n",
       "      <td>0.0</td>\n",
       "      <td>0.0</td>\n",
       "    </tr>\n",
       "  </tbody>\n",
       "</table>\n",
       "<p>5 rows × 53 columns</p>\n",
       "</div>"
      ],
      "text/plain": [
       "   Recency  Frequency  Monetary  horario_promedio  2010-12  2011-01  2011-02  \\\n",
       "0      253        422     358.7                11    108.0    193.0      1.0   \n",
       "1       36         10       2.1                13      0.0      0.0      0.0   \n",
       "2        1        610     492.7                12      0.0     60.0      0.0   \n",
       "3      114        130      67.5                12     20.0      0.0     10.0   \n",
       "4       10        300     287.2                10      0.0      0.0    200.0   \n",
       "\n",
       "   2011-03  2011-04  2011-05  ...  Portugal  RSA  Saudi Arabia  Singapore  \\\n",
       "0      0.0    120.0      0.0  ...       0.0  0.0           0.0        0.0   \n",
       "1      0.0      0.0      0.0  ...       0.0  0.0           0.0        0.0   \n",
       "2     40.0     20.0    100.0  ...       0.0  0.0           0.0        0.0   \n",
       "3      0.0      0.0      0.0  ...      20.0  0.0           0.0        0.0   \n",
       "4     60.0      0.0      0.0  ...       0.0  0.0           0.0        0.0   \n",
       "\n",
       "   Spain  Sweden  Switzerland  USA  United Arab Emirates  Unspecified  \n",
       "0   24.0     0.0         12.0  0.0                   0.0          0.0  \n",
       "1    0.0     0.0          0.0  0.0                   0.0          0.0  \n",
       "2    0.0     0.0         20.0  0.0                   0.0          0.0  \n",
       "3    0.0     0.0         10.0  0.0                   0.0          0.0  \n",
       "4    0.0     0.0          0.0  0.0                   0.0          0.0  \n",
       "\n",
       "[5 rows x 53 columns]"
      ]
     },
     "execution_count": 7,
     "metadata": {},
     "output_type": "execute_result"
    }
   ],
   "source": [
    "rfm_productos_extranjeros.head()"
   ]
  },
  {
   "cell_type": "code",
   "execution_count": 8,
   "metadata": {},
   "outputs": [
    {
     "name": "stdout",
     "output_type": "stream",
     "text": [
      "Estadísticas ANTES de la limpieza de outliers:\n",
      "           Recency     Frequency      Monetary\n",
      "count  2781.000000   2781.000000   2781.000000\n",
      "mean     69.030924    326.311399    537.350708\n",
      "std      92.414427    760.944895   1347.455107\n",
      "min       1.000000      1.000000      0.190000\n",
      "25%       6.000000     24.000000     40.680000\n",
      "50%      25.000000     91.000000    148.500000\n",
      "75%      81.000000    323.000000    525.000000\n",
      "max     374.000000  15437.000000  31551.750000\n",
      "\n",
      "Cantidad de registros antes: 2781\n"
     ]
    }
   ],
   "source": [
    "# Limpieza de outliers usando el método IQR para Recency, Frequency y Monetary\n",
    "def remove_outliers_iqr(df, columns):\n",
    "    \"\"\"\n",
    "    Elimina outliers usando el método IQR (Interquartile Range)\n",
    "    \"\"\"\n",
    "    df_clean = df.copy()\n",
    "    \n",
    "    for col in columns:\n",
    "        Q1 = df_clean[col].quantile(0.25)\n",
    "        Q3 = df_clean[col].quantile(0.75)\n",
    "        IQR = Q3 - Q1\n",
    "        \n",
    "        lower_bound = Q1 - 1.5 * IQR\n",
    "        upper_bound = Q3 + 1.5 * IQR\n",
    "        \n",
    "        # Filtramos los outliers\n",
    "        df_clean = df_clean[(df_clean[col] >= lower_bound) & (df_clean[col] <= upper_bound)]\n",
    "    \n",
    "    return df_clean\n",
    "\n",
    "# Columnas a limpiar\n",
    "columns_to_clean = ['Recency', 'Frequency', 'Monetary']\n",
    "\n",
    "# Mostrar estadísticas antes de la limpieza\n",
    "print(\"Estadísticas ANTES de la limpieza de outliers:\")\n",
    "print(rfm_productos_extranjeros[columns_to_clean].describe())\n",
    "print(f\"\\nCantidad de registros antes: {len(rfm_productos_extranjeros)}\")\n",
    "\n",
    "# Aplicar limpieza de outliers\n",
    "rfm_productos_extranjeros_clean = remove_outliers_iqr(rfm_productos_extranjeros, columns_to_clean)\n",
    "\n",
    "\n"
   ]
  },
  {
   "cell_type": "code",
   "execution_count": 9,
   "metadata": {},
   "outputs": [
    {
     "name": "stderr",
     "output_type": "stream",
     "text": [
      "2025/07/07 18:35:24 INFO mlflow.tracking.fluent: Experiment with name 'K-MEANS-PRODUCTOS_EXTRANJEROS' does not exist. Creating a new experiment.\n"
     ]
    },
    {
     "name": "stdout",
     "output_type": "stream",
     "text": [
      "🏃 View run K=1 at: http://localhost:5000/#/experiments/990448571672273184/runs/c1b702fd5ebd4ed2ad276e378cdea623\n",
      "🧪 View experiment at: http://localhost:5000/#/experiments/990448571672273184\n",
      "🏃 View run K=2 at: http://localhost:5000/#/experiments/990448571672273184/runs/3ecdaf94a4da441d8f18b724212d1df9\n",
      "🧪 View experiment at: http://localhost:5000/#/experiments/990448571672273184\n",
      "🏃 View run K=3 at: http://localhost:5000/#/experiments/990448571672273184/runs/ce7839dbd0424d6583c36405fc5f2916\n",
      "🧪 View experiment at: http://localhost:5000/#/experiments/990448571672273184\n",
      "🏃 View run K=4 at: http://localhost:5000/#/experiments/990448571672273184/runs/d7a5c3ad73ad4e11bc4318ea516daf03\n",
      "🧪 View experiment at: http://localhost:5000/#/experiments/990448571672273184\n",
      "🏃 View run K=5 at: http://localhost:5000/#/experiments/990448571672273184/runs/50b89aa363f24f0eab5e93f3b56d7f23\n",
      "🧪 View experiment at: http://localhost:5000/#/experiments/990448571672273184\n",
      "🏃 View run K=6 at: http://localhost:5000/#/experiments/990448571672273184/runs/4492ff43362247eb96405f18a26e4f5e\n",
      "🧪 View experiment at: http://localhost:5000/#/experiments/990448571672273184\n",
      "🏃 View run K=7 at: http://localhost:5000/#/experiments/990448571672273184/runs/dd19c8857dda4aa38f54d24b0b518462\n",
      "🧪 View experiment at: http://localhost:5000/#/experiments/990448571672273184\n",
      "🏃 View run K=8 at: http://localhost:5000/#/experiments/990448571672273184/runs/cd3d545b0837422181bbfb575084b85f\n",
      "🧪 View experiment at: http://localhost:5000/#/experiments/990448571672273184\n",
      "🏃 View run K=9 at: http://localhost:5000/#/experiments/990448571672273184/runs/0996455b155b4a77be82bd14d2f5d6de\n",
      "🧪 View experiment at: http://localhost:5000/#/experiments/990448571672273184\n",
      "🏃 View run K=10 at: http://localhost:5000/#/experiments/990448571672273184/runs/33bee6c3b1bf4f85805d1ba48442185f\n",
      "🧪 View experiment at: http://localhost:5000/#/experiments/990448571672273184\n",
      "🏃 View run Elbow_Method at: http://localhost:5000/#/experiments/990448571672273184/runs/fff8433c3613462c9d895b944bd1a157\n",
      "🧪 View experiment at: http://localhost:5000/#/experiments/990448571672273184\n",
      "Run ID final clustering: ba0a67fb5add418993af238f3015f9a5\n",
      "🏃 View run Final_Clustering_k=3 at: http://localhost:5000/#/experiments/990448571672273184/runs/ba0a67fb5add418993af238f3015f9a5\n",
      "🧪 View experiment at: http://localhost:5000/#/experiments/990448571672273184\n"
     ]
    }
   ],
   "source": [
    "\n",
    "kmeans_clustering_mlflow(rfm_productos_extranjeros_clean, ['Recency', 'Frequency', 'Monetary'],10,3,'K-MEANS-PRODUCTOS_EXTRANJEROS')"
   ]
  },
  {
   "cell_type": "markdown",
   "metadata": {},
   "source": [
    "## Clientes"
   ]
  },
  {
   "cell_type": "code",
   "execution_count": 10,
   "metadata": {},
   "outputs": [
    {
     "name": "stdout",
     "output_type": "stream",
     "text": [
      "Index(['Recency', 'Frequency', 'Monetary', 'horario_promedio', '2010-12',\n",
      "       '2011-01', '2011-02', '2011-03', '2011-04', '2011-05', '2011-06',\n",
      "       '2011-07', '2011-08', '2011-09', '2011-10', '2011-11', '2011-12'],\n",
      "      dtype='object')\n"
     ]
    }
   ],
   "source": [
    "clientes_extranjeros = pd.read_csv('../dataset/rfm_clientes_extranjeros.csv')\n",
    "\n",
    "clientes_extranjeros.drop(columns=['id_cliente'], inplace=True)\n",
    "\n",
    "print(clientes_extranjeros.columns)\n",
    "\n"
   ]
  },
  {
   "cell_type": "code",
   "execution_count": 11,
   "metadata": {},
   "outputs": [
    {
     "name": "stdout",
     "output_type": "stream",
     "text": [
      "Forma original del dataset: (418, 17)\n",
      "Outliers en Recency: 24 (5.74%)\n",
      "Outliers en Frequency: 40 (10.15%)\n",
      "Outliers en Monetary: 34 (9.60%)\n",
      "Forma nueva del dataset: (320, 17)\n"
     ]
    }
   ],
   "source": [
    "# Limpieza de outliers para Recency, Frequency y Monetary\n",
    "print(\"Forma original del dataset:\", clientes_extranjeros.shape)\n",
    "\n",
    "# Función para detectar outliers usando IQR\n",
    "def remove_outliers_iqr(df, columns):\n",
    "    df_clean = df.copy()\n",
    "    for col in columns:\n",
    "        Q1 = df_clean[col].quantile(0.25)\n",
    "        Q3 = df_clean[col].quantile(0.75)\n",
    "        IQR = Q3 - Q1\n",
    "        lower_bound = Q1 - 1.5 * IQR\n",
    "        upper_bound = Q3 + 1.5 * IQR\n",
    "        \n",
    "        # Contar outliers antes de remover\n",
    "        outliers_count = len(df_clean[(df_clean[col] < lower_bound) | (df_clean[col] > upper_bound)])\n",
    "        print(f\"Outliers en {col}: {outliers_count} ({outliers_count/len(df_clean)*100:.2f}%)\")\n",
    "        \n",
    "        # Remover outliers\n",
    "        df_clean = df_clean[(df_clean[col] >= lower_bound) & (df_clean[col] <= upper_bound)]\n",
    "    \n",
    "    return df_clean\n",
    "\n",
    "# Columnas a limpiar\n",
    "columns_to_clean = ['Recency', 'Frequency', 'Monetary']\n",
    "\n",
    "# Aplicar limpieza de outliers\n",
    "clientes_extranjeros_clean = remove_outliers_iqr(clientes_extranjeros, columns_to_clean)\n",
    "\n",
    "print(\"Forma nueva del dataset:\", clientes_extranjeros_clean.shape)\n"
   ]
  },
  {
   "cell_type": "code",
   "execution_count": 16,
   "metadata": {},
   "outputs": [
    {
     "name": "stdout",
     "output_type": "stream",
     "text": [
      "🏃 View run K=1 at: http://localhost:5000/#/experiments/302917147741213049/runs/a06394d3132545e9be8e0d29ab2740b9\n",
      "🧪 View experiment at: http://localhost:5000/#/experiments/302917147741213049\n",
      "🏃 View run K=2 at: http://localhost:5000/#/experiments/302917147741213049/runs/679ca8336ff24457980db06c098423c5\n",
      "🧪 View experiment at: http://localhost:5000/#/experiments/302917147741213049\n",
      "🏃 View run K=3 at: http://localhost:5000/#/experiments/302917147741213049/runs/9b9294c13fd6420d9f95ebb872d39f55\n",
      "🧪 View experiment at: http://localhost:5000/#/experiments/302917147741213049\n",
      "🏃 View run K=4 at: http://localhost:5000/#/experiments/302917147741213049/runs/7ba2567e4cc24df199d291a32b1b9ed6\n",
      "🧪 View experiment at: http://localhost:5000/#/experiments/302917147741213049\n",
      "🏃 View run K=5 at: http://localhost:5000/#/experiments/302917147741213049/runs/68576eaa8a0a4403967ca7c0b14bd74a\n",
      "🧪 View experiment at: http://localhost:5000/#/experiments/302917147741213049\n",
      "🏃 View run K=6 at: http://localhost:5000/#/experiments/302917147741213049/runs/5474d72aaf7849438d91ac4ea44b32bd\n",
      "🧪 View experiment at: http://localhost:5000/#/experiments/302917147741213049\n",
      "🏃 View run K=7 at: http://localhost:5000/#/experiments/302917147741213049/runs/c037bb4742b64be1b55fba7580d38a25\n",
      "🧪 View experiment at: http://localhost:5000/#/experiments/302917147741213049\n",
      "🏃 View run K=8 at: http://localhost:5000/#/experiments/302917147741213049/runs/cc5acf6d2b2349f4b6e9a106fb1a6c61\n",
      "🧪 View experiment at: http://localhost:5000/#/experiments/302917147741213049\n",
      "🏃 View run K=9 at: http://localhost:5000/#/experiments/302917147741213049/runs/0369d87d65ef438e95629ac4aa8d8b0e\n",
      "🧪 View experiment at: http://localhost:5000/#/experiments/302917147741213049\n",
      "🏃 View run K=10 at: http://localhost:5000/#/experiments/302917147741213049/runs/87d5dcbde4ef4c51b700d538da2653e7\n",
      "🧪 View experiment at: http://localhost:5000/#/experiments/302917147741213049\n",
      "🏃 View run Elbow_Method at: http://localhost:5000/#/experiments/302917147741213049/runs/ec1f081f99254228ac2ea9a101880b96\n",
      "🧪 View experiment at: http://localhost:5000/#/experiments/302917147741213049\n",
      "Run ID final clustering: ba9ea4903c9f47c1a65dc4e5b6445d73\n",
      "🏃 View run Final_Clustering_k=3 at: http://localhost:5000/#/experiments/302917147741213049/runs/ba9ea4903c9f47c1a65dc4e5b6445d73\n",
      "🧪 View experiment at: http://localhost:5000/#/experiments/302917147741213049\n"
     ]
    }
   ],
   "source": [
    "kmeans_clustering_mlflow(clientes_extranjeros_clean, ['Recency', 'Frequency', 'Monetary','horario_promedio'],10,3,'K-MEANS-CLIENTES-EXTRANJEROS')"
   ]
  },
  {
   "cell_type": "markdown",
   "metadata": {},
   "source": [
    "# LOCAL"
   ]
  },
  {
   "cell_type": "markdown",
   "metadata": {},
   "source": [
    "## PRODUCTOS"
   ]
  },
  {
   "cell_type": "code",
   "execution_count": 15,
   "metadata": {},
   "outputs": [
    {
     "name": "stdout",
     "output_type": "stream",
     "text": [
      "Index(['id_producto', 'recency', 'frequency', 'monetary', 'horario_promedio',\n",
      "       '2010-12', '2011-01', '2011-02', '2011-03', '2011-04', '2011-05',\n",
      "       '2011-06', '2011-07', '2011-08', '2011-09', '2011-10', '2011-11',\n",
      "       '2011-12'],\n",
      "      dtype='object')\n",
      "cantidad de columnas:  18\n",
      "cantidad de filas:  3638\n"
     ]
    }
   ],
   "source": [
    "productos_local = pd.read_csv('../dataset/rfm_productos_local.csv')\n",
    "\n",
    "print(productos_local.columns)\n",
    "\n",
    "print(\"cantidad de columnas: \", len(productos_local.columns))\n",
    "\n",
    "print(\"cantidad de filas: \", len(productos_local))\n",
    "\n"
   ]
  },
  {
   "cell_type": "code",
   "execution_count": 17,
   "metadata": {},
   "outputs": [],
   "source": [
    "productos_local.drop(columns=['id_producto'], inplace=True)"
   ]
  },
  {
   "cell_type": "code",
   "execution_count": 20,
   "metadata": {},
   "outputs": [],
   "source": [
    "# Limpieza de outliers usando el método IQR para Recency, Frequency y Monetary\n",
    "def remove_outliers_iqr(df, columns):\n",
    "    \"\"\"\n",
    "    Elimina outliers usando el método IQR (Interquartile Range)\n",
    "    \"\"\"\n",
    "    df_clean = df.copy()\n",
    "    \n",
    "    for col in columns:\n",
    "        Q1 = df_clean[col].quantile(0.25)\n",
    "        Q3 = df_clean[col].quantile(0.75)\n",
    "        IQR = Q3 - Q1\n",
    "        \n",
    "        lower_bound = Q1 - 1.5 * IQR\n",
    "        upper_bound = Q3 + 1.5 * IQR\n",
    "        \n",
    "        # Filtramos los outliers\n",
    "        df_clean = df_clean[(df_clean[col] >= lower_bound) & (df_clean[col] <= upper_bound)]\n",
    "    \n",
    "    return df_clean\n",
    "\n",
    "# Columnas a limpiar\n",
    "columns_to_clean = ['recency', 'frequency', 'monetary']\n",
    "\n",
    "producto_local_clean = remove_outliers_iqr(productos_local, columns_to_clean)\n",
    "\n"
   ]
  },
  {
   "cell_type": "code",
   "execution_count": 22,
   "metadata": {},
   "outputs": [
    {
     "name": "stdout",
     "output_type": "stream",
     "text": [
      "🏃 View run K=1 at: http://localhost:5000/#/experiments/768932697419387509/runs/2228399d62a84890bda503fcf8fc7efb\n",
      "🧪 View experiment at: http://localhost:5000/#/experiments/768932697419387509\n",
      "🏃 View run K=2 at: http://localhost:5000/#/experiments/768932697419387509/runs/9ece35ebb1dd49f6bd17dfc2c8d7c76d\n",
      "🧪 View experiment at: http://localhost:5000/#/experiments/768932697419387509\n",
      "🏃 View run K=3 at: http://localhost:5000/#/experiments/768932697419387509/runs/831a7db2043b468b987ec8e1d08d7099\n",
      "🧪 View experiment at: http://localhost:5000/#/experiments/768932697419387509\n",
      "🏃 View run K=4 at: http://localhost:5000/#/experiments/768932697419387509/runs/a649aa9a0d334d45bb39abb63390a281\n",
      "🧪 View experiment at: http://localhost:5000/#/experiments/768932697419387509\n",
      "🏃 View run K=5 at: http://localhost:5000/#/experiments/768932697419387509/runs/5c6109ff4d4349a7a98a37b5067ca701\n",
      "🧪 View experiment at: http://localhost:5000/#/experiments/768932697419387509\n",
      "🏃 View run K=6 at: http://localhost:5000/#/experiments/768932697419387509/runs/a8ad7f95d7c447aca0d01fd08893128f\n",
      "🧪 View experiment at: http://localhost:5000/#/experiments/768932697419387509\n",
      "🏃 View run K=7 at: http://localhost:5000/#/experiments/768932697419387509/runs/0692e26e84f94f88a21b90aa1fc34189\n",
      "🧪 View experiment at: http://localhost:5000/#/experiments/768932697419387509\n",
      "🏃 View run K=8 at: http://localhost:5000/#/experiments/768932697419387509/runs/098fff409d3d4918b5e8e965db136d77\n",
      "🧪 View experiment at: http://localhost:5000/#/experiments/768932697419387509\n",
      "🏃 View run K=9 at: http://localhost:5000/#/experiments/768932697419387509/runs/233bd132cf5f431ba2d21c0b3d9087b6\n",
      "🧪 View experiment at: http://localhost:5000/#/experiments/768932697419387509\n",
      "🏃 View run K=10 at: http://localhost:5000/#/experiments/768932697419387509/runs/a223b11544394f28b0ceff4b0c3edf7e\n",
      "🧪 View experiment at: http://localhost:5000/#/experiments/768932697419387509\n",
      "🏃 View run Elbow_Method at: http://localhost:5000/#/experiments/768932697419387509/runs/dcedbd1e227f46ed86d129fa0383ecf5\n",
      "🧪 View experiment at: http://localhost:5000/#/experiments/768932697419387509\n",
      "Run ID final clustering: dd4061d3a8f5465b965808e914d4568b\n",
      "🏃 View run Final_Clustering_k=3 at: http://localhost:5000/#/experiments/768932697419387509/runs/dd4061d3a8f5465b965808e914d4568b\n",
      "🧪 View experiment at: http://localhost:5000/#/experiments/768932697419387509\n"
     ]
    }
   ],
   "source": [
    "kmeans_clustering_mlflow(producto_local_clean, ['recency', 'frequency', 'monetary'],10,3,'KMEANS_PRODUCTO_LOCAL')"
   ]
  },
  {
   "cell_type": "markdown",
   "metadata": {},
   "source": [
    "## CLIENTES"
   ]
  },
  {
   "cell_type": "code",
   "execution_count": 24,
   "metadata": {},
   "outputs": [
    {
     "name": "stdout",
     "output_type": "stream",
     "text": [
      "Index(['id_cliente', 'Recency', 'Frequency', 'Monetary', 'horario_promedio',\n",
      "       '2010-12', '2011-01', '2011-02', '2011-03', '2011-04', '2011-05',\n",
      "       '2011-06', '2011-07', '2011-08', '2011-09', '2011-10', '2011-11',\n",
      "       '2011-12'],\n",
      "      dtype='object')\n",
      "cantidad de columnas:  18\n",
      "cantidad de filas:  3915\n"
     ]
    }
   ],
   "source": [
    "cliente_local = pd.read_csv('../dataset/rfm_clientes_locales.csv')\n",
    "\n",
    "print(cliente_local.columns)\n",
    "\n",
    "print(\"cantidad de columnas: \", len(cliente_local.columns))\n",
    "\n",
    "print(\"cantidad de filas: \", len(cliente_local))\n",
    "\n"
   ]
  },
  {
   "cell_type": "code",
   "execution_count": 25,
   "metadata": {},
   "outputs": [],
   "source": [
    "cliente_local.drop(columns=['id_cliente'], inplace=True)"
   ]
  },
  {
   "cell_type": "code",
   "execution_count": 28,
   "metadata": {},
   "outputs": [],
   "source": [
    "# Limpieza de outliers usando el método IQR para Recency, Frequency y Monetary\n",
    "def remove_outliers_iqr(df, columns):\n",
    "    \"\"\"\n",
    "    Elimina outliers usando el método IQR (Interquartile Range)\n",
    "    \"\"\"\n",
    "    df_clean = df.copy()\n",
    "    \n",
    "    for col in columns:\n",
    "        Q1 = df_clean[col].quantile(0.25)\n",
    "        Q3 = df_clean[col].quantile(0.75)\n",
    "        IQR = Q3 - Q1\n",
    "        \n",
    "        lower_bound = Q1 - 1.5 * IQR\n",
    "        upper_bound = Q3 + 1.5 * IQR\n",
    "        \n",
    "        # Filtramos los outliers\n",
    "        df_clean = df_clean[(df_clean[col] >= lower_bound) & (df_clean[col] <= upper_bound)]\n",
    "    \n",
    "    return df_clean\n",
    "\n",
    "# Columnas a limpiar\n",
    "columns_to_clean = ['Recency', 'Frequency', 'Monetary']\n",
    "\n",
    "cliente_local_clean = remove_outliers_iqr(cliente_local, columns_to_clean)\n"
   ]
  },
  {
   "cell_type": "code",
   "execution_count": 29,
   "metadata": {},
   "outputs": [
    {
     "name": "stdout",
     "output_type": "stream",
     "text": [
      "🏃 View run K=1 at: http://localhost:5000/#/experiments/940887523690596510/runs/623b58e593894b8290b4f3f30630c082\n",
      "🧪 View experiment at: http://localhost:5000/#/experiments/940887523690596510\n",
      "🏃 View run K=2 at: http://localhost:5000/#/experiments/940887523690596510/runs/be251c545f124e28ae812f13f068a951\n",
      "🧪 View experiment at: http://localhost:5000/#/experiments/940887523690596510\n",
      "🏃 View run K=3 at: http://localhost:5000/#/experiments/940887523690596510/runs/88c77d83f7314e2396366d9ebb156e71\n",
      "🧪 View experiment at: http://localhost:5000/#/experiments/940887523690596510\n",
      "🏃 View run K=4 at: http://localhost:5000/#/experiments/940887523690596510/runs/d26dcb6c569a4d76a6ec27047aee20b2\n",
      "🧪 View experiment at: http://localhost:5000/#/experiments/940887523690596510\n",
      "🏃 View run K=5 at: http://localhost:5000/#/experiments/940887523690596510/runs/2e480bccb76d4b8b864ea83df410dfb9\n",
      "🧪 View experiment at: http://localhost:5000/#/experiments/940887523690596510\n",
      "🏃 View run K=6 at: http://localhost:5000/#/experiments/940887523690596510/runs/98fbc34c16c647e9ac675c3cfaa7d79a\n",
      "🧪 View experiment at: http://localhost:5000/#/experiments/940887523690596510\n",
      "🏃 View run K=7 at: http://localhost:5000/#/experiments/940887523690596510/runs/5ad9dbb0ed0f42d2b0eb0349f42af6e0\n",
      "🧪 View experiment at: http://localhost:5000/#/experiments/940887523690596510\n",
      "🏃 View run K=8 at: http://localhost:5000/#/experiments/940887523690596510/runs/dc939cc3de794b3ba3fd3615a018879a\n",
      "🧪 View experiment at: http://localhost:5000/#/experiments/940887523690596510\n",
      "🏃 View run K=9 at: http://localhost:5000/#/experiments/940887523690596510/runs/60acdce15094458995a094d69184a9b0\n",
      "🧪 View experiment at: http://localhost:5000/#/experiments/940887523690596510\n",
      "🏃 View run K=10 at: http://localhost:5000/#/experiments/940887523690596510/runs/ec6c45a59fd84001bd2d4ac5a9616096\n",
      "🧪 View experiment at: http://localhost:5000/#/experiments/940887523690596510\n",
      "🏃 View run Elbow_Method at: http://localhost:5000/#/experiments/940887523690596510/runs/48ceff3222f6484983c231cb76d693cf\n",
      "🧪 View experiment at: http://localhost:5000/#/experiments/940887523690596510\n",
      "Run ID final clustering: 37173f9ef2a042d1b1046b85ef173800\n",
      "🏃 View run Final_Clustering_k=3 at: http://localhost:5000/#/experiments/940887523690596510/runs/37173f9ef2a042d1b1046b85ef173800\n",
      "🧪 View experiment at: http://localhost:5000/#/experiments/940887523690596510\n"
     ]
    }
   ],
   "source": [
    "kmeans_clustering_mlflow(cliente_local_clean, ['Recency', 'Frequency', 'Monetary'],10,3,'K-Means_Clientes_Locales')"
   ]
  }
 ],
 "metadata": {
  "kernelspec": {
   "display_name": "ecommerce",
   "language": "python",
   "name": "python3"
  },
  "language_info": {
   "codemirror_mode": {
    "name": "ipython",
    "version": 3
   },
   "file_extension": ".py",
   "mimetype": "text/x-python",
   "name": "python",
   "nbconvert_exporter": "python",
   "pygments_lexer": "ipython3",
   "version": "3.9.23"
  }
 },
 "nbformat": 4,
 "nbformat_minor": 2
}
