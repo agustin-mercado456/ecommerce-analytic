{
 "cells": [
  {
   "cell_type": "code",
   "execution_count": 1,
   "id": "223ed8aa",
   "metadata": {},
   "outputs": [],
   "source": [
    "import sys\n",
    "import os\n",
    "\n",
    "\n",
    "import numpy as np\n",
    "import matplotlib.pyplot as plt\n",
    "import seaborn as sns\n",
    "import pandas as pd\n",
    "from sklearn.preprocessing import RobustScaler,StandardScaler, MinMaxScaler\n",
    "from sklearn.cluster import KMeans, DBSCAN, AgglomerativeClustering, SpectralClustering\n",
    "from sklearn.mixture import GaussianMixture\n",
    "from sklearn.metrics import silhouette_score, calinski_harabasz_score, davies_bouldin_score\n",
    "import importlib\n",
    "from sklearn.decomposition import PCA\n",
    "\n",
    "path_src = os.path.abspath('../../../src')\n",
    "\n",
    "# Agregar esa ruta al sys.path si no está ya\n",
    "if path_src not in sys.path:\n",
    "    sys.path.append(path_src)\n",
    "\n",
    "# Importar utils normalmente\n",
    "import utils\n",
    "importlib.reload(utils)\n",
    "\n",
    "# Importar funciones específicas\n",
    "from utils import (\n",
    "    kmeans_clustering_mlflow,\n",
    "    transform_pca,\n",
    "    silhouette_analysis,\n",
    "    elbow_method,\n",
    "    plot_davies_bouldin_scores,\n",
    "    evaluar_calinski_harabasz\n",
    ")"
   ]
  },
  {
   "cell_type": "code",
   "execution_count": 2,
   "id": "68d601b5",
   "metadata": {},
   "outputs": [
    {
     "data": {
      "text/html": [
       "<div>\n",
       "<style scoped>\n",
       "    .dataframe tbody tr th:only-of-type {\n",
       "        vertical-align: middle;\n",
       "    }\n",
       "\n",
       "    .dataframe tbody tr th {\n",
       "        vertical-align: top;\n",
       "    }\n",
       "\n",
       "    .dataframe thead th {\n",
       "        text-align: right;\n",
       "    }\n",
       "</style>\n",
       "<table border=\"1\" class=\"dataframe\">\n",
       "  <thead>\n",
       "    <tr style=\"text-align: right;\">\n",
       "      <th></th>\n",
       "      <th>id_factura</th>\n",
       "      <th>id_producto</th>\n",
       "      <th>descripcion</th>\n",
       "      <th>cantidad</th>\n",
       "      <th>precio_unitario</th>\n",
       "      <th>id_cliente</th>\n",
       "      <th>pais</th>\n",
       "      <th>monto</th>\n",
       "      <th>dia</th>\n",
       "      <th>mes</th>\n",
       "      <th>anio</th>\n",
       "      <th>horario</th>\n",
       "    </tr>\n",
       "  </thead>\n",
       "  <tbody>\n",
       "    <tr>\n",
       "      <th>0</th>\n",
       "      <td>536365</td>\n",
       "      <td>85123A</td>\n",
       "      <td>WHITE HANGING HEART T-LIGHT HOLDER</td>\n",
       "      <td>6</td>\n",
       "      <td>2.55</td>\n",
       "      <td>17850.0</td>\n",
       "      <td>United Kingdom</td>\n",
       "      <td>15.30</td>\n",
       "      <td>1</td>\n",
       "      <td>12</td>\n",
       "      <td>2010</td>\n",
       "      <td>08:26:00</td>\n",
       "    </tr>\n",
       "    <tr>\n",
       "      <th>1</th>\n",
       "      <td>536365</td>\n",
       "      <td>71053</td>\n",
       "      <td>WHITE METAL LANTERN</td>\n",
       "      <td>6</td>\n",
       "      <td>3.39</td>\n",
       "      <td>17850.0</td>\n",
       "      <td>United Kingdom</td>\n",
       "      <td>20.34</td>\n",
       "      <td>1</td>\n",
       "      <td>12</td>\n",
       "      <td>2010</td>\n",
       "      <td>08:26:00</td>\n",
       "    </tr>\n",
       "    <tr>\n",
       "      <th>2</th>\n",
       "      <td>536365</td>\n",
       "      <td>84406B</td>\n",
       "      <td>CREAM CUPID HEARTS COAT HANGER</td>\n",
       "      <td>8</td>\n",
       "      <td>2.75</td>\n",
       "      <td>17850.0</td>\n",
       "      <td>United Kingdom</td>\n",
       "      <td>22.00</td>\n",
       "      <td>1</td>\n",
       "      <td>12</td>\n",
       "      <td>2010</td>\n",
       "      <td>08:26:00</td>\n",
       "    </tr>\n",
       "    <tr>\n",
       "      <th>3</th>\n",
       "      <td>536365</td>\n",
       "      <td>84029G</td>\n",
       "      <td>KNITTED UNION FLAG HOT WATER BOTTLE</td>\n",
       "      <td>6</td>\n",
       "      <td>3.39</td>\n",
       "      <td>17850.0</td>\n",
       "      <td>United Kingdom</td>\n",
       "      <td>20.34</td>\n",
       "      <td>1</td>\n",
       "      <td>12</td>\n",
       "      <td>2010</td>\n",
       "      <td>08:26:00</td>\n",
       "    </tr>\n",
       "    <tr>\n",
       "      <th>4</th>\n",
       "      <td>536365</td>\n",
       "      <td>84029E</td>\n",
       "      <td>RED WOOLLY HOTTIE WHITE HEART.</td>\n",
       "      <td>6</td>\n",
       "      <td>3.39</td>\n",
       "      <td>17850.0</td>\n",
       "      <td>United Kingdom</td>\n",
       "      <td>20.34</td>\n",
       "      <td>1</td>\n",
       "      <td>12</td>\n",
       "      <td>2010</td>\n",
       "      <td>08:26:00</td>\n",
       "    </tr>\n",
       "  </tbody>\n",
       "</table>\n",
       "</div>"
      ],
      "text/plain": [
       "   id_factura id_producto                          descripcion  cantidad  \\\n",
       "0      536365      85123A   WHITE HANGING HEART T-LIGHT HOLDER         6   \n",
       "1      536365       71053                  WHITE METAL LANTERN         6   \n",
       "2      536365      84406B       CREAM CUPID HEARTS COAT HANGER         8   \n",
       "3      536365      84029G  KNITTED UNION FLAG HOT WATER BOTTLE         6   \n",
       "4      536365      84029E       RED WOOLLY HOTTIE WHITE HEART.         6   \n",
       "\n",
       "   precio_unitario  id_cliente            pais  monto  dia  mes  anio  \\\n",
       "0             2.55     17850.0  United Kingdom  15.30    1   12  2010   \n",
       "1             3.39     17850.0  United Kingdom  20.34    1   12  2010   \n",
       "2             2.75     17850.0  United Kingdom  22.00    1   12  2010   \n",
       "3             3.39     17850.0  United Kingdom  20.34    1   12  2010   \n",
       "4             3.39     17850.0  United Kingdom  20.34    1   12  2010   \n",
       "\n",
       "    horario  \n",
       "0  08:26:00  \n",
       "1  08:26:00  \n",
       "2  08:26:00  \n",
       "3  08:26:00  \n",
       "4  08:26:00  "
      ]
     },
     "execution_count": 2,
     "metadata": {},
     "output_type": "execute_result"
    }
   ],
   "source": [
    "\n",
    "\n",
    "ecommerce_data = pd.read_csv('../../../dataset/online_retail_clean.csv')\n",
    "\n",
    "ecommerce_data.head()\n",
    "\n",
    "\n",
    "\n"
   ]
  },
  {
   "cell_type": "code",
   "execution_count": 3,
   "id": "7c1ca7f4",
   "metadata": {},
   "outputs": [],
   "source": [
    "# filtrar los datos que no sean de Reino Unido\n",
    "ecommerce_data_sin_uk = ecommerce_data[ecommerce_data['pais'] != 'United Kingdom'].copy()\n",
    "\n",
    "# EXCLUIR PRODUCTOS ESPECIALES\n",
    "ecommerce_data_sin_uk = ecommerce_data_sin_uk[~ecommerce_data_sin_uk['id_producto'].isin(['PADS', 'DOT', 'M','C2', 'POST', 'BANK CHARGES'])]"
   ]
  },
  {
   "cell_type": "code",
   "execution_count": 4,
   "id": "8a1a60ce",
   "metadata": {},
   "outputs": [
    {
     "name": "stdout",
     "output_type": "stream",
     "text": [
      "418\n"
     ]
    }
   ],
   "source": [
    "cantidad_clientes_extranjeros = ecommerce_data_sin_uk['id_cliente'].nunique()\n",
    "\n",
    "print(cantidad_clientes_extranjeros)"
   ]
  },
  {
   "cell_type": "code",
   "execution_count": 5,
   "id": "7acf9910",
   "metadata": {},
   "outputs": [
    {
     "name": "stdout",
     "output_type": "stream",
     "text": [
      "2781\n"
     ]
    }
   ],
   "source": [
    "cantidad_productos_extranjeros = ecommerce_data_sin_uk['id_producto'].nunique()\n",
    "\n",
    "print(cantidad_productos_extranjeros)"
   ]
  },
  {
   "cell_type": "code",
   "execution_count": 6,
   "id": "97590312",
   "metadata": {},
   "outputs": [
    {
     "data": {
      "text/html": [
       "<div>\n",
       "<style scoped>\n",
       "    .dataframe tbody tr th:only-of-type {\n",
       "        vertical-align: middle;\n",
       "    }\n",
       "\n",
       "    .dataframe tbody tr th {\n",
       "        vertical-align: top;\n",
       "    }\n",
       "\n",
       "    .dataframe thead th {\n",
       "        text-align: right;\n",
       "    }\n",
       "</style>\n",
       "<table border=\"1\" class=\"dataframe\">\n",
       "  <thead>\n",
       "    <tr style=\"text-align: right;\">\n",
       "      <th></th>\n",
       "      <th>id_producto</th>\n",
       "      <th>Cluster</th>\n",
       "    </tr>\n",
       "  </thead>\n",
       "  <tbody>\n",
       "    <tr>\n",
       "      <th>0</th>\n",
       "      <td>10120</td>\n",
       "      <td>0</td>\n",
       "    </tr>\n",
       "    <tr>\n",
       "      <th>1</th>\n",
       "      <td>10125</td>\n",
       "      <td>2</td>\n",
       "    </tr>\n",
       "    <tr>\n",
       "      <th>2</th>\n",
       "      <td>10133</td>\n",
       "      <td>1</td>\n",
       "    </tr>\n",
       "    <tr>\n",
       "      <th>3</th>\n",
       "      <td>10135</td>\n",
       "      <td>2</td>\n",
       "    </tr>\n",
       "    <tr>\n",
       "      <th>4</th>\n",
       "      <td>11001</td>\n",
       "      <td>0</td>\n",
       "    </tr>\n",
       "  </tbody>\n",
       "</table>\n",
       "</div>"
      ],
      "text/plain": [
       "  id_producto  Cluster\n",
       "0       10120        0\n",
       "1       10125        2\n",
       "2       10133        1\n",
       "3       10135        2\n",
       "4       11001        0"
      ]
     },
     "execution_count": 6,
     "metadata": {},
     "output_type": "execute_result"
    }
   ],
   "source": [
    "productos_clusters=pd.read_csv('../../../dataset/productos_cluster_extranjeros.csv')\n",
    "\n",
    "productos_clusters.head()\n",
    "\n",
    "\n",
    "\n"
   ]
  },
  {
   "cell_type": "code",
   "execution_count": 7,
   "id": "1ba7c2df",
   "metadata": {},
   "outputs": [
    {
     "data": {
      "text/html": [
       "<div>\n",
       "<style scoped>\n",
       "    .dataframe tbody tr th:only-of-type {\n",
       "        vertical-align: middle;\n",
       "    }\n",
       "\n",
       "    .dataframe tbody tr th {\n",
       "        vertical-align: top;\n",
       "    }\n",
       "\n",
       "    .dataframe thead th {\n",
       "        text-align: right;\n",
       "    }\n",
       "</style>\n",
       "<table border=\"1\" class=\"dataframe\">\n",
       "  <thead>\n",
       "    <tr style=\"text-align: right;\">\n",
       "      <th></th>\n",
       "      <th>id_cliente</th>\n",
       "      <th>Cluster</th>\n",
       "    </tr>\n",
       "  </thead>\n",
       "  <tbody>\n",
       "    <tr>\n",
       "      <th>0</th>\n",
       "      <td>12348.0</td>\n",
       "      <td>2</td>\n",
       "    </tr>\n",
       "    <tr>\n",
       "      <th>1</th>\n",
       "      <td>12349.0</td>\n",
       "      <td>2</td>\n",
       "    </tr>\n",
       "    <tr>\n",
       "      <th>2</th>\n",
       "      <td>12350.0</td>\n",
       "      <td>0</td>\n",
       "    </tr>\n",
       "    <tr>\n",
       "      <th>3</th>\n",
       "      <td>12352.0</td>\n",
       "      <td>1</td>\n",
       "    </tr>\n",
       "    <tr>\n",
       "      <th>4</th>\n",
       "      <td>12353.0</td>\n",
       "      <td>0</td>\n",
       "    </tr>\n",
       "  </tbody>\n",
       "</table>\n",
       "</div>"
      ],
      "text/plain": [
       "   id_cliente  Cluster\n",
       "0     12348.0        2\n",
       "1     12349.0        2\n",
       "2     12350.0        0\n",
       "3     12352.0        1\n",
       "4     12353.0        0"
      ]
     },
     "execution_count": 7,
     "metadata": {},
     "output_type": "execute_result"
    }
   ],
   "source": [
    "clientes_clusters=pd.read_csv('../../../dataset/clientes_cluster_extranjeros.csv')\n",
    "\n",
    "clientes_clusters.head()"
   ]
  },
  {
   "cell_type": "code",
   "execution_count": 8,
   "id": "b49ac85f",
   "metadata": {},
   "outputs": [
    {
     "name": "stdout",
     "output_type": "stream",
     "text": [
      "Index(['id_cliente', 'Cluster'], dtype='object')\n",
      "Index(['id_producto', 'Cluster'], dtype='object')\n",
      "Index(['id_factura', 'id_producto', 'descripcion', 'cantidad',\n",
      "       'precio_unitario', 'id_cliente', 'pais', 'monto', 'dia', 'mes', 'anio',\n",
      "       'horario'],\n",
      "      dtype='object')\n"
     ]
    }
   ],
   "source": [
    "\n",
    "\n",
    "print(clientes_clusters.columns)\n",
    "\n",
    "print(productos_clusters.columns)\n",
    "\n",
    "print(ecommerce_data_sin_uk.columns)"
   ]
  },
  {
   "cell_type": "code",
   "execution_count": 9,
   "id": "e298e498",
   "metadata": {},
   "outputs": [
    {
     "data": {
      "text/html": [
       "<div>\n",
       "<style scoped>\n",
       "    .dataframe tbody tr th:only-of-type {\n",
       "        vertical-align: middle;\n",
       "    }\n",
       "\n",
       "    .dataframe tbody tr th {\n",
       "        vertical-align: top;\n",
       "    }\n",
       "\n",
       "    .dataframe thead th {\n",
       "        text-align: right;\n",
       "    }\n",
       "</style>\n",
       "<table border=\"1\" class=\"dataframe\">\n",
       "  <thead>\n",
       "    <tr style=\"text-align: right;\">\n",
       "      <th></th>\n",
       "      <th>id_factura</th>\n",
       "      <th>id_producto</th>\n",
       "      <th>descripcion</th>\n",
       "      <th>cantidad</th>\n",
       "      <th>precio_unitario</th>\n",
       "      <th>id_cliente</th>\n",
       "      <th>pais</th>\n",
       "      <th>monto</th>\n",
       "      <th>dia</th>\n",
       "      <th>mes</th>\n",
       "      <th>anio</th>\n",
       "      <th>horario</th>\n",
       "      <th>cluster_cliente</th>\n",
       "      <th>cluster_producto</th>\n",
       "    </tr>\n",
       "  </thead>\n",
       "  <tbody>\n",
       "    <tr>\n",
       "      <th>0</th>\n",
       "      <td>536858</td>\n",
       "      <td>20677</td>\n",
       "      <td>PINK POLKADOT BOWL</td>\n",
       "      <td>16</td>\n",
       "      <td>1.25</td>\n",
       "      <td>13520.0</td>\n",
       "      <td>Switzerland</td>\n",
       "      <td>20.00</td>\n",
       "      <td>3</td>\n",
       "      <td>12</td>\n",
       "      <td>2010</td>\n",
       "      <td>10:36:00</td>\n",
       "      <td>1.0</td>\n",
       "      <td>2.0</td>\n",
       "    </tr>\n",
       "    <tr>\n",
       "      <th>1</th>\n",
       "      <td>536861</td>\n",
       "      <td>22149</td>\n",
       "      <td>FELTCRAFT 6 FLOWER FRIENDS</td>\n",
       "      <td>6</td>\n",
       "      <td>2.10</td>\n",
       "      <td>12427.0</td>\n",
       "      <td>Germany</td>\n",
       "      <td>12.60</td>\n",
       "      <td>3</td>\n",
       "      <td>12</td>\n",
       "      <td>2010</td>\n",
       "      <td>10:44:00</td>\n",
       "      <td>2.0</td>\n",
       "      <td>2.0</td>\n",
       "    </tr>\n",
       "    <tr>\n",
       "      <th>2</th>\n",
       "      <td>536861</td>\n",
       "      <td>22301</td>\n",
       "      <td>COFFEE MUG CAT + BIRD DESIGN</td>\n",
       "      <td>6</td>\n",
       "      <td>2.55</td>\n",
       "      <td>12427.0</td>\n",
       "      <td>Germany</td>\n",
       "      <td>15.30</td>\n",
       "      <td>3</td>\n",
       "      <td>12</td>\n",
       "      <td>2010</td>\n",
       "      <td>10:44:00</td>\n",
       "      <td>2.0</td>\n",
       "      <td>0.0</td>\n",
       "    </tr>\n",
       "    <tr>\n",
       "      <th>3</th>\n",
       "      <td>536861</td>\n",
       "      <td>22300</td>\n",
       "      <td>COFFEE MUG DOG + BALL DESIGN</td>\n",
       "      <td>6</td>\n",
       "      <td>2.55</td>\n",
       "      <td>12427.0</td>\n",
       "      <td>Germany</td>\n",
       "      <td>15.30</td>\n",
       "      <td>3</td>\n",
       "      <td>12</td>\n",
       "      <td>2010</td>\n",
       "      <td>10:44:00</td>\n",
       "      <td>2.0</td>\n",
       "      <td>0.0</td>\n",
       "    </tr>\n",
       "    <tr>\n",
       "      <th>4</th>\n",
       "      <td>536861</td>\n",
       "      <td>21328</td>\n",
       "      <td>BALLOONS  WRITING SET</td>\n",
       "      <td>12</td>\n",
       "      <td>1.65</td>\n",
       "      <td>12427.0</td>\n",
       "      <td>Germany</td>\n",
       "      <td>19.80</td>\n",
       "      <td>3</td>\n",
       "      <td>12</td>\n",
       "      <td>2010</td>\n",
       "      <td>10:44:00</td>\n",
       "      <td>2.0</td>\n",
       "      <td>0.0</td>\n",
       "    </tr>\n",
       "    <tr>\n",
       "      <th>5</th>\n",
       "      <td>536861</td>\n",
       "      <td>21329</td>\n",
       "      <td>DINOSAURS  WRITING SET</td>\n",
       "      <td>12</td>\n",
       "      <td>1.65</td>\n",
       "      <td>12427.0</td>\n",
       "      <td>Germany</td>\n",
       "      <td>19.80</td>\n",
       "      <td>3</td>\n",
       "      <td>12</td>\n",
       "      <td>2010</td>\n",
       "      <td>10:44:00</td>\n",
       "      <td>2.0</td>\n",
       "      <td>0.0</td>\n",
       "    </tr>\n",
       "    <tr>\n",
       "      <th>6</th>\n",
       "      <td>537218</td>\n",
       "      <td>21506</td>\n",
       "      <td>FANCY FONT BIRTHDAY CARD,</td>\n",
       "      <td>12</td>\n",
       "      <td>0.42</td>\n",
       "      <td>12763.0</td>\n",
       "      <td>Japan</td>\n",
       "      <td>5.04</td>\n",
       "      <td>5</td>\n",
       "      <td>12</td>\n",
       "      <td>2010</td>\n",
       "      <td>15:46:00</td>\n",
       "      <td>0.0</td>\n",
       "      <td>0.0</td>\n",
       "    </tr>\n",
       "    <tr>\n",
       "      <th>7</th>\n",
       "      <td>537218</td>\n",
       "      <td>22983</td>\n",
       "      <td>CARD BILLBOARD FONT</td>\n",
       "      <td>12</td>\n",
       "      <td>0.42</td>\n",
       "      <td>12763.0</td>\n",
       "      <td>Japan</td>\n",
       "      <td>5.04</td>\n",
       "      <td>5</td>\n",
       "      <td>12</td>\n",
       "      <td>2010</td>\n",
       "      <td>15:46:00</td>\n",
       "      <td>0.0</td>\n",
       "      <td>0.0</td>\n",
       "    </tr>\n",
       "    <tr>\n",
       "      <th>8</th>\n",
       "      <td>537218</td>\n",
       "      <td>22030</td>\n",
       "      <td>SWALLOWS GREETING CARD</td>\n",
       "      <td>12</td>\n",
       "      <td>0.42</td>\n",
       "      <td>12763.0</td>\n",
       "      <td>Japan</td>\n",
       "      <td>5.04</td>\n",
       "      <td>5</td>\n",
       "      <td>12</td>\n",
       "      <td>2010</td>\n",
       "      <td>15:46:00</td>\n",
       "      <td>0.0</td>\n",
       "      <td>0.0</td>\n",
       "    </tr>\n",
       "    <tr>\n",
       "      <th>9</th>\n",
       "      <td>537218</td>\n",
       "      <td>22984</td>\n",
       "      <td>CARD GINGHAM ROSE</td>\n",
       "      <td>12</td>\n",
       "      <td>0.42</td>\n",
       "      <td>12763.0</td>\n",
       "      <td>Japan</td>\n",
       "      <td>5.04</td>\n",
       "      <td>5</td>\n",
       "      <td>12</td>\n",
       "      <td>2010</td>\n",
       "      <td>15:46:00</td>\n",
       "      <td>0.0</td>\n",
       "      <td>2.0</td>\n",
       "    </tr>\n",
       "  </tbody>\n",
       "</table>\n",
       "</div>"
      ],
      "text/plain": [
       "   id_factura id_producto                   descripcion  cantidad  \\\n",
       "0      536858       20677            PINK POLKADOT BOWL        16   \n",
       "1      536861       22149    FELTCRAFT 6 FLOWER FRIENDS         6   \n",
       "2      536861       22301  COFFEE MUG CAT + BIRD DESIGN         6   \n",
       "3      536861       22300  COFFEE MUG DOG + BALL DESIGN         6   \n",
       "4      536861       21328        BALLOONS  WRITING SET         12   \n",
       "5      536861       21329       DINOSAURS  WRITING SET         12   \n",
       "6      537218       21506    FANCY FONT BIRTHDAY CARD,         12   \n",
       "7      537218       22983           CARD BILLBOARD FONT        12   \n",
       "8      537218       22030        SWALLOWS GREETING CARD        12   \n",
       "9      537218       22984            CARD GINGHAM ROSE         12   \n",
       "\n",
       "   precio_unitario  id_cliente         pais  monto  dia  mes  anio   horario  \\\n",
       "0             1.25     13520.0  Switzerland  20.00    3   12  2010  10:36:00   \n",
       "1             2.10     12427.0      Germany  12.60    3   12  2010  10:44:00   \n",
       "2             2.55     12427.0      Germany  15.30    3   12  2010  10:44:00   \n",
       "3             2.55     12427.0      Germany  15.30    3   12  2010  10:44:00   \n",
       "4             1.65     12427.0      Germany  19.80    3   12  2010  10:44:00   \n",
       "5             1.65     12427.0      Germany  19.80    3   12  2010  10:44:00   \n",
       "6             0.42     12763.0        Japan   5.04    5   12  2010  15:46:00   \n",
       "7             0.42     12763.0        Japan   5.04    5   12  2010  15:46:00   \n",
       "8             0.42     12763.0        Japan   5.04    5   12  2010  15:46:00   \n",
       "9             0.42     12763.0        Japan   5.04    5   12  2010  15:46:00   \n",
       "\n",
       "   cluster_cliente  cluster_producto  \n",
       "0              1.0               2.0  \n",
       "1              2.0               2.0  \n",
       "2              2.0               0.0  \n",
       "3              2.0               0.0  \n",
       "4              2.0               0.0  \n",
       "5              2.0               0.0  \n",
       "6              0.0               0.0  \n",
       "7              0.0               0.0  \n",
       "8              0.0               0.0  \n",
       "9              0.0               2.0  "
      ]
     },
     "execution_count": 9,
     "metadata": {},
     "output_type": "execute_result"
    }
   ],
   "source": [
    "# Renombrar columnas de cluster para evitar colisiones\n",
    "clientes_clusters = clientes_clusters.rename(columns={'Cluster': 'cluster_cliente'})\n",
    "productos_clusters = productos_clusters.rename(columns={'Cluster': 'cluster_producto'})\n",
    "\n",
    "# Hacer merge de ecommerce_data_sin_uk con clientes_clusters\n",
    "df_merged = ecommerce_data_sin_uk.merge(clientes_clusters, on='id_cliente', how='left')\n",
    "\n",
    "# Luego merge con productos_clusters\n",
    "df_merged = df_merged.merge(productos_clusters, on='id_producto', how='left')\n",
    "\n",
    "# Eliminar filas donde no se encontró cluster de cliente o producto\n",
    "df_merged = df_merged.dropna(subset=['cluster_cliente', 'cluster_producto'])\n",
    "\n",
    "# (Opcional) Resetear el índice\n",
    "df_merged = df_merged.reset_index(drop=True)\n",
    "\n",
    "# Mostrar resultado\n",
    "df_merged.head(10)\n"
   ]
  },
  {
   "cell_type": "markdown",
   "id": "323cfd96",
   "metadata": {},
   "source": [
    "### tabla de contigencia entre cluster de producto y clientes"
   ]
  },
  {
   "cell_type": "code",
   "execution_count": 10,
   "id": "13d7f95a",
   "metadata": {},
   "outputs": [
    {
     "data": {
      "text/html": [
       "<div>\n",
       "<style scoped>\n",
       "    .dataframe tbody tr th:only-of-type {\n",
       "        vertical-align: middle;\n",
       "    }\n",
       "\n",
       "    .dataframe tbody tr th {\n",
       "        vertical-align: top;\n",
       "    }\n",
       "\n",
       "    .dataframe thead th {\n",
       "        text-align: right;\n",
       "    }\n",
       "</style>\n",
       "<table border=\"1\" class=\"dataframe\">\n",
       "  <thead>\n",
       "    <tr style=\"text-align: right;\">\n",
       "      <th>cluster_producto</th>\n",
       "      <th>0.0</th>\n",
       "      <th>1.0</th>\n",
       "      <th>2.0</th>\n",
       "    </tr>\n",
       "    <tr>\n",
       "      <th>cluster_cliente</th>\n",
       "      <th></th>\n",
       "      <th></th>\n",
       "      <th></th>\n",
       "    </tr>\n",
       "  </thead>\n",
       "  <tbody>\n",
       "    <tr>\n",
       "      <th>0.0</th>\n",
       "      <td>431</td>\n",
       "      <td>148</td>\n",
       "      <td>505</td>\n",
       "    </tr>\n",
       "    <tr>\n",
       "      <th>1.0</th>\n",
       "      <td>1194</td>\n",
       "      <td>215</td>\n",
       "      <td>1377</td>\n",
       "    </tr>\n",
       "    <tr>\n",
       "      <th>2.0</th>\n",
       "      <td>1357</td>\n",
       "      <td>154</td>\n",
       "      <td>1382</td>\n",
       "    </tr>\n",
       "  </tbody>\n",
       "</table>\n",
       "</div>"
      ],
      "text/plain": [
       "cluster_producto   0.0  1.0   2.0\n",
       "cluster_cliente                  \n",
       "0.0                431  148   505\n",
       "1.0               1194  215  1377\n",
       "2.0               1357  154  1382"
      ]
     },
     "execution_count": 10,
     "metadata": {},
     "output_type": "execute_result"
    }
   ],
   "source": [
    "tabla_conexiones = pd.crosstab(df_merged['cluster_cliente'], df_merged['cluster_producto'])\n",
    "\n",
    "tabla_conexiones"
   ]
  },
  {
   "cell_type": "code",
   "execution_count": 11,
   "id": "6eea5103",
   "metadata": {},
   "outputs": [
    {
     "data": {
      "image/png": "[encoded data removed]",
      "text/plain": [
       "<Figure size 1000x600 with 2 Axes>"
      ]
     },
     "metadata": {},
     "output_type": "display_data"
    }
   ],
   "source": [
    "\n",
    "plt.figure(figsize=(10, 6))\n",
    "sns.heatmap(tabla_conexiones, annot=True, fmt='d', cmap='YlGnBu')\n",
    "\n",
    "plt.title(\"Conexiones entre clústeres de clientes y productos\")\n",
    "plt.xlabel(\"Cluster de producto\")\n",
    "plt.ylabel(\"Cluster de cliente\")\n",
    "plt.tight_layout()\n",
    "plt.show()\n"
   ]
  },
  {
   "cell_type": "markdown",
   "id": "f91df8cf",
   "metadata": {},
   "source": [
    "### GASTO DE LOS CLUESTER DE CLIENTES EN CADA CLUSTER DE PRODUCTO"
   ]
  },
  {
   "cell_type": "code",
   "execution_count": 12,
   "id": "fd4e7547",
   "metadata": {},
   "outputs": [
    {
     "name": "stdout",
     "output_type": "stream",
     "text": [
      "cluster_producto       0.0      1.0       2.0\n",
      "cluster_cliente                              \n",
      "0.0                7715.57  2879.86  10003.77\n",
      "1.0               22315.67  3955.58  24705.02\n",
      "2.0               19341.72  2606.45  21834.92\n"
     ]
    }
   ],
   "source": [
    "# Agrupar por clúster de cliente y producto, y sumar el monto total\n",
    "conexiones_monto = df_merged.groupby(['cluster_cliente', 'cluster_producto'])['monto'].sum().unstack(fill_value=0)\n",
    "\n",
    "# Mostrar la tabla\n",
    "print(conexiones_monto)\n"
   ]
  },
  {
   "cell_type": "code",
   "execution_count": 13,
   "id": "9ca6bc0d",
   "metadata": {},
   "outputs": [
    {
     "name": "stderr",
     "output_type": "stream",
     "text": [
      "/tmp/ipykernel_6061/339071380.py:10: UserWarning: Glyph 128176 (\\N{MONEY BAG}) missing from font(s) DejaVu Sans.\n",
      "  plt.tight_layout()\n",
      "/home/agustin/miniconda3/envs/ecommerce/lib/python3.9/site-packages/IPython/core/pylabtools.py:152: UserWarning: Glyph 128176 (\\N{MONEY BAG}) missing from font(s) DejaVu Sans.\n",
      "  fig.canvas.print_figure(bytes_io, **kw)\n"
     ]
    },
    {
     "data": {
      "image/png": "[encoded data removed]",
      "text/plain": [
       "<Figure size 1000x600 with 2 Axes>"
      ]
     },
     "metadata": {},
     "output_type": "display_data"
    }
   ],
   "source": [
    "import seaborn as sns\n",
    "import matplotlib.pyplot as plt\n",
    "\n",
    "plt.figure(figsize=(10, 6))\n",
    "sns.heatmap(conexiones_monto, annot=True, fmt='.0f', cmap='YlOrRd')\n",
    "\n",
    "plt.title(\"💰 Monto total entre clústeres de clientes y productos\")\n",
    "plt.xlabel(\"Cluster de producto\")\n",
    "plt.ylabel(\"Cluster de cliente\")\n",
    "plt.tight_layout()\n",
    "plt.show()\n"
   ]
  },
  {
   "cell_type": "code",
   "execution_count": 14,
   "id": "614bbd80",
   "metadata": {},
   "outputs": [
    {
     "name": "stdout",
     "output_type": "stream",
     "text": [
      "   cluster_cliente  cluster_producto     monto\n",
      "5              1.0               2.0  24705.02\n",
      "3              1.0               0.0  22315.67\n",
      "8              2.0               2.0  21834.92\n",
      "6              2.0               0.0  19341.72\n",
      "2              0.0               2.0  10003.77\n"
     ]
    }
   ],
   "source": [
    "# Resetear índice para trabajar más fácilmente\n",
    "top_conexiones = df_merged.groupby(['cluster_cliente', 'cluster_producto'])['monto'].sum().reset_index()\n",
    "\n",
    "# Ordenar de mayor a menor monto\n",
    "top_conexiones = top_conexiones.sort_values(by='monto', ascending=False)\n",
    "\n",
    "print(top_conexiones.head(5))\n"
   ]
  },
  {
   "cell_type": "markdown",
   "id": "8b28c212",
   "metadata": {},
   "source": [
    "### CANTIDAD DE CADA UNIDADES QUE SE LLEVAN DE CADA CLUSTER DE PRODUCTOS POR CADA CLUSTER DE CLIENTE"
   ]
  },
  {
   "cell_type": "code",
   "execution_count": 15,
   "id": "ef7e3b25",
   "metadata": {},
   "outputs": [
    {
     "name": "stdout",
     "output_type": "stream",
     "text": [
      "cluster_producto    0.0   1.0    2.0\n",
      "cluster_cliente                     \n",
      "0.0                3552  1834   6362\n",
      "1.0               14508  2401  19701\n",
      "2.0               12180  1514  18059\n"
     ]
    }
   ],
   "source": [
    "# Agrupar por clúster de cliente y producto, y sumar la cantidad total\n",
    "conexiones_cantidad = df_merged.groupby(['cluster_cliente', 'cluster_producto'])['cantidad'].sum().unstack(fill_value=0)\n",
    "\n",
    "# Mostrar tabla\n",
    "print(conexiones_cantidad)\n"
   ]
  },
  {
   "cell_type": "code",
   "execution_count": 16,
   "id": "26d1eed7",
   "metadata": {},
   "outputs": [
    {
     "name": "stderr",
     "output_type": "stream",
     "text": [
      "/tmp/ipykernel_6061/1605888141.py:10: UserWarning: Glyph 128230 (\\N{PACKAGE}) missing from font(s) DejaVu Sans.\n",
      "  plt.tight_layout()\n",
      "/home/agustin/miniconda3/envs/ecommerce/lib/python3.9/site-packages/IPython/core/pylabtools.py:152: UserWarning: Glyph 128230 (\\N{PACKAGE}) missing from font(s) DejaVu Sans.\n",
      "  fig.canvas.print_figure(bytes_io, **kw)\n"
     ]
    },
    {
     "data": {
      "image/png": "[encoded data removed]",
      "text/plain": [
       "<Figure size 1000x600 with 2 Axes>"
      ]
     },
     "metadata": {},
     "output_type": "display_data"
    }
   ],
   "source": [
    "import seaborn as sns\n",
    "import matplotlib.pyplot as plt\n",
    "\n",
    "plt.figure(figsize=(10, 6))\n",
    "sns.heatmap(conexiones_cantidad, annot=True, fmt='.0f', cmap='PuBuGn')\n",
    "\n",
    "plt.title(\"📦 Cantidad total entre clústeres de clientes y productos\")\n",
    "plt.xlabel(\"Cluster de producto\")\n",
    "plt.ylabel(\"Cluster de cliente\")\n",
    "plt.tight_layout()\n",
    "plt.show()\n"
   ]
  },
  {
   "cell_type": "code",
   "execution_count": 17,
   "id": "f98678b4",
   "metadata": {},
   "outputs": [
    {
     "name": "stdout",
     "output_type": "stream",
     "text": [
      "   cluster_cliente  cluster_producto  cantidad\n",
      "5              1.0               2.0     19701\n",
      "8              2.0               2.0     18059\n",
      "3              1.0               0.0     14508\n",
      "6              2.0               0.0     12180\n",
      "2              0.0               2.0      6362\n"
     ]
    }
   ],
   "source": [
    "top_cantidades = df_merged.groupby(['cluster_cliente', 'cluster_producto'])['cantidad'].sum().reset_index()\n",
    "\n",
    "top_cantidades = top_cantidades.sort_values(by='cantidad', ascending=False)\n",
    "\n",
    "print(top_cantidades.head(5))\n"
   ]
  },
  {
   "cell_type": "code",
   "execution_count": 18,
   "id": "052fd088",
   "metadata": {},
   "outputs": [
    {
     "data": {
      "text/html": [
       "<div>\n",
       "<style scoped>\n",
       "    .dataframe tbody tr th:only-of-type {\n",
       "        vertical-align: middle;\n",
       "    }\n",
       "\n",
       "    .dataframe tbody tr th {\n",
       "        vertical-align: top;\n",
       "    }\n",
       "\n",
       "    .dataframe thead th {\n",
       "        text-align: right;\n",
       "    }\n",
       "</style>\n",
       "<table border=\"1\" class=\"dataframe\">\n",
       "  <thead>\n",
       "    <tr style=\"text-align: right;\">\n",
       "      <th></th>\n",
       "      <th>id_factura</th>\n",
       "      <th>id_producto</th>\n",
       "      <th>descripcion</th>\n",
       "      <th>cantidad</th>\n",
       "      <th>precio_unitario</th>\n",
       "      <th>id_cliente</th>\n",
       "      <th>pais</th>\n",
       "      <th>monto</th>\n",
       "      <th>dia</th>\n",
       "      <th>mes</th>\n",
       "      <th>anio</th>\n",
       "      <th>horario</th>\n",
       "      <th>cluster_cliente</th>\n",
       "      <th>cluster_producto</th>\n",
       "    </tr>\n",
       "  </thead>\n",
       "  <tbody>\n",
       "    <tr>\n",
       "      <th>0</th>\n",
       "      <td>536858</td>\n",
       "      <td>20677</td>\n",
       "      <td>PINK POLKADOT BOWL</td>\n",
       "      <td>16</td>\n",
       "      <td>1.25</td>\n",
       "      <td>13520.0</td>\n",
       "      <td>Switzerland</td>\n",
       "      <td>20.0</td>\n",
       "      <td>3</td>\n",
       "      <td>12</td>\n",
       "      <td>2010</td>\n",
       "      <td>10:36:00</td>\n",
       "      <td>1.0</td>\n",
       "      <td>2.0</td>\n",
       "    </tr>\n",
       "    <tr>\n",
       "      <th>1</th>\n",
       "      <td>536861</td>\n",
       "      <td>22149</td>\n",
       "      <td>FELTCRAFT 6 FLOWER FRIENDS</td>\n",
       "      <td>6</td>\n",
       "      <td>2.10</td>\n",
       "      <td>12427.0</td>\n",
       "      <td>Germany</td>\n",
       "      <td>12.6</td>\n",
       "      <td>3</td>\n",
       "      <td>12</td>\n",
       "      <td>2010</td>\n",
       "      <td>10:44:00</td>\n",
       "      <td>2.0</td>\n",
       "      <td>2.0</td>\n",
       "    </tr>\n",
       "    <tr>\n",
       "      <th>2</th>\n",
       "      <td>536861</td>\n",
       "      <td>22301</td>\n",
       "      <td>COFFEE MUG CAT + BIRD DESIGN</td>\n",
       "      <td>6</td>\n",
       "      <td>2.55</td>\n",
       "      <td>12427.0</td>\n",
       "      <td>Germany</td>\n",
       "      <td>15.3</td>\n",
       "      <td>3</td>\n",
       "      <td>12</td>\n",
       "      <td>2010</td>\n",
       "      <td>10:44:00</td>\n",
       "      <td>2.0</td>\n",
       "      <td>0.0</td>\n",
       "    </tr>\n",
       "    <tr>\n",
       "      <th>3</th>\n",
       "      <td>536861</td>\n",
       "      <td>22300</td>\n",
       "      <td>COFFEE MUG DOG + BALL DESIGN</td>\n",
       "      <td>6</td>\n",
       "      <td>2.55</td>\n",
       "      <td>12427.0</td>\n",
       "      <td>Germany</td>\n",
       "      <td>15.3</td>\n",
       "      <td>3</td>\n",
       "      <td>12</td>\n",
       "      <td>2010</td>\n",
       "      <td>10:44:00</td>\n",
       "      <td>2.0</td>\n",
       "      <td>0.0</td>\n",
       "    </tr>\n",
       "    <tr>\n",
       "      <th>4</th>\n",
       "      <td>536861</td>\n",
       "      <td>21328</td>\n",
       "      <td>BALLOONS  WRITING SET</td>\n",
       "      <td>12</td>\n",
       "      <td>1.65</td>\n",
       "      <td>12427.0</td>\n",
       "      <td>Germany</td>\n",
       "      <td>19.8</td>\n",
       "      <td>3</td>\n",
       "      <td>12</td>\n",
       "      <td>2010</td>\n",
       "      <td>10:44:00</td>\n",
       "      <td>2.0</td>\n",
       "      <td>0.0</td>\n",
       "    </tr>\n",
       "  </tbody>\n",
       "</table>\n",
       "</div>"
      ],
      "text/plain": [
       "   id_factura id_producto                   descripcion  cantidad  \\\n",
       "0      536858       20677            PINK POLKADOT BOWL        16   \n",
       "1      536861       22149    FELTCRAFT 6 FLOWER FRIENDS         6   \n",
       "2      536861       22301  COFFEE MUG CAT + BIRD DESIGN         6   \n",
       "3      536861       22300  COFFEE MUG DOG + BALL DESIGN         6   \n",
       "4      536861       21328        BALLOONS  WRITING SET         12   \n",
       "\n",
       "   precio_unitario  id_cliente         pais  monto  dia  mes  anio   horario  \\\n",
       "0             1.25     13520.0  Switzerland   20.0    3   12  2010  10:36:00   \n",
       "1             2.10     12427.0      Germany   12.6    3   12  2010  10:44:00   \n",
       "2             2.55     12427.0      Germany   15.3    3   12  2010  10:44:00   \n",
       "3             2.55     12427.0      Germany   15.3    3   12  2010  10:44:00   \n",
       "4             1.65     12427.0      Germany   19.8    3   12  2010  10:44:00   \n",
       "\n",
       "   cluster_cliente  cluster_producto  \n",
       "0              1.0               2.0  \n",
       "1              2.0               2.0  \n",
       "2              2.0               0.0  \n",
       "3              2.0               0.0  \n",
       "4              2.0               0.0  "
      ]
     },
     "execution_count": 18,
     "metadata": {},
     "output_type": "execute_result"
    }
   ],
   "source": [
    "df_merged.head()"
   ]
  },
  {
   "cell_type": "markdown",
   "id": "7859c805",
   "metadata": {},
   "source": [
    "# CONCLUSIÓN\n"
   ]
  },
  {
   "cell_type": "markdown",
   "id": "dec91953",
   "metadata": {},
   "source": [
    "Se aplicó K-means para segmentar tanto a los clientes como a los productos, obteniendo tres clústeres por cada grupo. Posteriormente, se cruzaron los clústeres en una matriz para analizar el monto total y la cantidad total de compras. Este análisis se complementó con variables RFM (Recencia, Frecuencia, Monto), evolución temporal de las ventas y comportamiento por país.\n"
   ]
  },
  {
   "cell_type": "markdown",
   "id": "4f6746d2",
   "metadata": {},
   "source": [
    "## 1. Perfilado de los clusteres de clientes"
   ]
  },
  {
   "cell_type": "markdown",
   "id": "d68bbe6f",
   "metadata": {},
   "source": [
    "\n",
    "| Clúster | Recencia | Frecuencia | Monto | Característica principal                                                   |\n",
    "| ------- | -------- | ---------- | ----- | -------------------------------------------------------------------------- |\n",
    "| 0       | 228     | 1         |     739| Clientes poco frecuentes y recientes. Bajo valor total.                    |\n",
    "| 1       | 36    | 4       | 2336  | Clientes muy activos y con alto gasto. Son el principal motor de ingresos. |\n",
    "| 2       | 50     | 2      | 688 | Clientes antiguos pero que mantienen actividad estable.                    |\n"
   ]
  },
  {
   "cell_type": "markdown",
   "id": "1aef5438",
   "metadata": {},
   "source": [
    "## 2. Perfilado de los clusteres de producto"
   ]
  },
  {
   "cell_type": "markdown",
   "id": "a13880e1",
   "metadata": {},
   "source": [
    "| Clúster | Recency | Frequency  | Monetary  | Interpretación                                                                                                                  |\n",
    "| ------- | ----------------- | ------------------- | ------------------ | ------------------------------------------------------------------------------------------------------------------------------- |\n",
    "| **0**   | 26.3              | 83.96               | 145.29             | Productos de **alta rotación** pero de **bajo valor por venta**. Son productos funcionales o de consumo masivo.                 |\n",
    "| **1**   | 121.5             | 47.63               | 74.65              | Productos con **recencia muy alta** y **frecuencia baja**, de **muy bajo valor**. Son productos probablemente **rezagados**.    |\n",
    "| **2**   | 19.9              | 403.55              | 528.83             | Productos con **recencia excelente**, **altísima rotación** y **alto valor**. Son los productos **estrella** o **top sellers**. |\n"
   ]
  },
  {
   "cell_type": "markdown",
   "id": "c68f19d5",
   "metadata": {},
   "source": [
    "## 3. Análisis cruzado entre clústeres basado en los mapas de calor"
   ]
  },
  {
   "cell_type": "markdown",
   "id": "6a820f8d",
   "metadata": {},
   "source": [
    "- El clúster de clientes 1 y productos 2 genera el mayor monto total (24.705) y la mayor cantidad de compras (19.701) → segmento estratégico.\n",
    "\n",
    "- El clúster de clientes 2 y productos 2 también es fuerte en monto (21.835) y cantidad (18.059).\n",
    "\n",
    "- El clúster de clientes 1 y productos 0 también sobresale (22.316 de monto y 14.508 en cantidad), lo que lo convierte en un grupo secundario de alto valor."
   ]
  },
  {
   "cell_type": "markdown",
   "id": "218a074a",
   "metadata": {},
   "source": [
    "## 4. Recomendaciones de marketing Personalizadas "
   ]
  },
  {
   "cell_type": "markdown",
   "id": "9c9be943",
   "metadata": {},
   "source": [
    "### Grupo 1"
   ]
  },
  {
   "cell_type": "markdown",
   "id": "2ccfac73",
   "metadata": {},
   "source": [
    "Clientes del clúster 1 y productos del clúster 2 , aqui esta el mayor ingreso de la parte extranjera \n",
    "\n",
    "\n",
    "Acciones:\n",
    "\n",
    "   - Programas de asociacion con tarjetas que brinden descuentos.\n",
    "\n",
    "   - Ofertas exclusivas para lanzamientos o ediciones limitadas.\n",
    "\n",
    "   - Comunicación frecuente por mail con novedades.\n"
   ]
  },
  {
   "cell_type": "markdown",
   "id": "7e85945b",
   "metadata": {},
   "source": [
    "### Grupo 2"
   ]
  },
  {
   "cell_type": "markdown",
   "id": "018f1ac4",
   "metadata": {},
   "source": [
    "Clientes del clúster 2 y productos del clúster 2 (clientes nuevos con productos de baja rotación)\n",
    "\n",
    "Acciones:\n",
    "\n",
    " - Promociones tipo 2x1 o prueba gratis.\n",
    "\n",
    " - Campañas de remarketing.\n",
    "\n",
    " - Reforzar contenido y reseñas de productos."
   ]
  },
  {
   "cell_type": "markdown",
   "id": "ecb959f1",
   "metadata": {},
   "source": [
    "### Grupo 3"
   ]
  },
  {
   "cell_type": "markdown",
   "id": "bb9d53c3",
   "metadata": {},
   "source": [
    "Clientes del clúster 1 y productos del clúster 0 (clientes veteranos con productos estrella)\n",
    "\n",
    "Acciones:\n",
    "\n",
    "  - paquetes promocionales.\n",
    "\n",
    "  - Promociones “comeback” para aumentar frecuencia.\n",
    "\n"
   ]
  },
  {
   "cell_type": "markdown",
   "id": "e92a160d",
   "metadata": {},
   "source": [
    "## 5. Consideracion por pais "
   ]
  },
  {
   "cell_type": "markdown",
   "id": "28755e4b",
   "metadata": {},
   "source": [
    "###  Estrategias regionales basadas en ventas promedio por país\n",
    "\n",
    "Del análisis realizado, se identificaron diferencias importantes en el rendimiento de los productos según el país. A continuación, se propone una estrategia de promoción segmentada por clúster de producto, teniendo en cuenta que **el orden de los países refleja la prioridad**, ya que están listados según el **mayor promedio de ventas** de ese clúster.\n",
    "\n",
    "\n",
    "\n",
    "####  Productos del *clúster 2* \n",
    "\n",
    "Se recomienda priorizar su promoción en los siguientes países:\n",
    "\n",
    "1. **Países Bajos (Holanda)**\n",
    "2. **Alemania**\n",
    "3. **Irlanda**\n",
    "4. **Francia**\n",
    "\n",
    "\n",
    "\n",
    "\n",
    "\n",
    "####  Productos del *clúster 1* \n",
    "\n",
    "A pesar de su bajo rendimiento general, hay países donde aún conservan cierta tracción. Se recomienda focalizar esfuerzos de promoción en:\n",
    "\n",
    "1. **Irlanda**\n",
    "2. **Alemania**\n",
    "3. **Holanda**\n",
    "4. **Francia**\n",
    "\n",
    ".\n",
    "\n",
    "####  Productos del *clúster 0* \n",
    "\n",
    "Estos productos presentan buena rotación, aunque con bajo monto por unidad. Se recomienda potenciar su presencia en los siguientes países:\n",
    "\n",
    "1. **Irlanda**\n",
    "2. **Alemania**\n",
    "3. **Francia**\n",
    "4. **Holanda**\n",
    "\n",
    "\n",
    "\n",
    "\n",
    "\n",
    "\n",
    "\n"
   ]
  },
  {
   "cell_type": "markdown",
   "id": "973609af",
   "metadata": {},
   "source": [
    "## 6. Evolucion Temporal"
   ]
  },
  {
   "cell_type": "markdown",
   "id": "cb6034aa",
   "metadata": {},
   "source": [
    "### Análisis cruzado de comportamiento mensual\n",
    "\n",
    "####  Gasto Promedio Mensual por Clúster de Cliente\n",
    "\n",
    "- **Clúster 1** domina el gasto mensual, con picos en junio, octubre y noviembre.  \n",
    "  → Perfil VIP, leal y con alto poder adquisitivo.\n",
    "\n",
    "\n",
    "- **Clúster 0** arranca bien pero cae desde julio.  \n",
    "  → Clientes que abandonan o reducen actividad.\n",
    "\n",
    "\n",
    "- **Clúster 2** muestra crecimiento estable hasta octubre.  \n",
    "  → Segmento en expansión o fidelizable.\n",
    "\n",
    "####  Ventas Promedio Mensual por Clúster de Producto\n",
    "\n",
    "- **Clúster 2** (productos estrella) lidera durante todo el año, con picos en sep-oct-nov.  \n",
    "\n",
    "- **Clúster 1** se mantiene bajo y desaparece desde octubre.  \n",
    "\n",
    "- **Clúster 0** es constante, con leve aumento en octubre.  \n",
    "\n",
    "\n",
    "\n"
   ]
  },
  {
   "cell_type": "markdown",
   "id": "d5858cf2",
   "metadata": {},
   "source": []
  }
 ],
 "metadata": {
  "kernelspec": {
   "display_name": "ecommerce",
   "language": "python",
   "name": "python3"
  },
  "language_info": {
   "codemirror_mode": {
    "name": "ipython",
    "version": 3
   },
   "file_extension": ".py",
   "mimetype": "text/x-python",
   "name": "python",
   "nbconvert_exporter": "python",
   "pygments_lexer": "ipython3",
   "version": "3.9.23"
  }
 },
 "nbformat": 4,
 "nbformat_minor": 5
}
